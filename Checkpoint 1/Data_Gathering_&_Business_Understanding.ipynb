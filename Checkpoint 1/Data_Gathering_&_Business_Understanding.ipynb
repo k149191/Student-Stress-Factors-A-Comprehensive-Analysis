{
  "nbformat": 4,
  "nbformat_minor": 0,
  "metadata": {
    "colab": {
      "provenance": []
    },
    "kernelspec": {
      "name": "python3",
      "display_name": "Python 3"
    },
    "language_info": {
      "name": "python"
    }
  },
  "cells": [
    {
      "cell_type": "markdown",
      "source": [
        "#STUDI KASUS"
      ],
      "metadata": {
        "id": "2YDZQghdsk3K"
      }
    },
    {
      "cell_type": "markdown",
      "source": [
        "Mahasiswa sering mengalami stress akibat tekanan akademik, sosial dan juga finansial. Sehingga memberikan dampak yang negatif pada kesehatan mental dan performa akademik mahasiswa.\n",
        "Untuk memahami faktor penyebab yang mempengaruhi tingkat stress pada mahasiswa dilakukan analisi data dengan membentuk fitur baru seperti academic_pressure, social_pressure, health_risk, dan mental_resilience. Fitur-fitur ini membantu mengidentifikasi hubungan antara stres dengan berbagai aspek kehidupan mahasiswa.\n",
        "Dengan hasil analisis ini, universitas dapat merancang kebijakan yang lebih efektif untuk meningkatkan kesejahteraan mahasiswa dan mengurangi dampak negatif dari stres."
      ],
      "metadata": {
        "id": "qf1nM30Hskp4"
      }
    },
    {
      "cell_type": "markdown",
      "source": [
        "# BUSINESS UNDERSTANDINGS"
      ],
      "metadata": {
        "id": "YA47KeBAMLj4"
      }
    },
    {
      "cell_type": "markdown",
      "source": [
        "Business Objective"
      ],
      "metadata": {
        "id": "3Q-EGX7syJG0"
      }
    },
    {
      "cell_type": "markdown",
      "source": [
        "Tujuan utama dari proyek ini adalah memahami faktor-faktor yang mempengaruhi tingkat stress pada mahsiswa. Dengan menganalisa berbagai aspek-aspek seperti beban akademi, tekanan sosial, dan keuangan. Tujuan dari proyek ini adalah untuk memberikan informasi yang dapat digunakan dalam merancang strategi peningkatan kesejahteraan mahasiswa dan juga membantu universitas dalam mengembangkan kebijakan yang lebih efektif dalam mendukung kesehatan mental mahasiswa."
      ],
      "metadata": {
        "id": "epZZGGrtyWUs"
      }
    },
    {
      "cell_type": "markdown",
      "source": [
        "Assess Situation"
      ],
      "metadata": {
        "id": "aI2yWOXtyNUm"
      }
    },
    {
      "cell_type": "markdown",
      "source": [
        "Situasi yang mendasari analisis ini adalah banyaknya mahasiswa yang sering mendapatkan tekanan yang berasal dari berbagai aspek kehidupan, seperti tuntutan akedemik yang tinggi, tekanan sosial, serta masalah keuangan. Sehingga banyak mahasiswa yang mengalami stress yang berdampka negatif terhadap performa akademik dan kesejahteraan mental mereka. Oleh sebab itu, pemahaman terhadap faktor-faktor yang mengakibatkan stress menjadi penting untuk mengidentifikasikan pola dan solusi yang dapat diterapkan untuk mengurangi dampaknya."
      ],
      "metadata": {
        "id": "Ej3Bp694yXCQ"
      }
    },
    {
      "cell_type": "markdown",
      "source": [
        "Data Mining Goals"
      ],
      "metadata": {
        "id": "P-RaZ6IkyRQE"
      }
    },
    {
      "cell_type": "markdown",
      "source": [
        "Mengidentifikasikan faktor-faktor utama yang berkontribusi terhadap tingkat stress mahasiswa. Analisis dilakukan dengan mengeksplorasi hubungan antara variabel seperti beban akademik, tekanan sosial, kondisi keuangan, kualitas tidur, serta faktor psikologis berdasar pada laporan yang dilaporkan oleh mahasiswa. Hasil dari ekspolasi ini dapat digunakan untuk memahami lebih dalam tentang faktor dominan yang mempengaruhi kesejahteraan mahasiswa."
      ],
      "metadata": {
        "id": "avNBsJhWyX1r"
      }
    },
    {
      "cell_type": "markdown",
      "source": [
        "Project Plan"
      ],
      "metadata": {
        "id": "jswvnSKjyTG0"
      }
    },
    {
      "cell_type": "markdown",
      "source": [
        "Pada proyek ini akan dilakukan; pertama, mengumpulakan dan membersihkan dataset dari nilai hilang. Kedua, menganalisis distribusi data dan menemukan pola serta hubungan umum antara variabel. Ketiga, memvisualisasikan hasil temuan hubungan atau korelasi data. Kempat, menggunakan teknik statistik untuk mengidentifikasi faktor-faktor utama yang berkontribusi terhadap tingkat stres mahasiswa. Kelima, mengukur performa model dengan metrik seperti akurasi data. Keenam, Menyusun laporan hasil dan rekomendasi. Setiap langkah-langkah pada proses dirancang untuk memastikan data yang akurat dan dapat memberikan informasi yang dapat digunakan dalam merancang strategi peningkatan kesejahteraan mahasiswa dan juga membantu universitas dalam mengembangkan kebijakan yang lebih efektif dalam mendukung kesehatan mental mahasiswa.\n"
      ],
      "metadata": {
        "id": "lBmgnmIFv6jz"
      }
    }
  ]
}